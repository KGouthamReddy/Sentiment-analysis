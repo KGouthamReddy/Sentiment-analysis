{
 "cells": [
  {
   "cell_type": "code",
   "execution_count": 97,
   "metadata": {},
   "outputs": [],
   "source": [
    "#importing the libraries\n",
    "import pandas as pd\n",
    "import numpy as np\n",
    "import re"
   ]
  },
  {
   "cell_type": "code",
   "execution_count": 98,
   "metadata": {
    "scrolled": true
   },
   "outputs": [
    {
     "name": "stdout",
     "output_type": "stream",
     "text": [
      "   Great product. Have been using it for more than 1.5 years now. No issues  \\\n",
      "0   The protection level is poor. My phone fell of...                         \n",
      "1                        Love the blue bumper case.+1                         \n",
      "2   This is a great band! Never used one before bu...                         \n",
      "3                              Never buy this product                         \n",
      "4   I love the shoes. Thess are my first lotto sho...                         \n",
      "5            Good product. Happy with the purchase.+1                         \n",
      "6              Product is great. Same as described.+1                         \n",
      "7                               Very poor quality.+-1                         \n",
      "8                          Nice kurta rich looking.+1                         \n",
      "9                                        Not good.+-1                         \n",
      "10  T-Shirt is different in real than display pic....                         \n",
      "11  very poor quality shoes.my left heel has state...                         \n",
      "12  Very cheap quality of the product. Not sure ev...                         \n",
      "13  Look is sort of duplicate product. Quality is ...                         \n",
      "14                                       Fake product                         \n",
      "15  Chhi chhi very bad product of Reebok. Size & c...                         \n",
      "16  Very comfortable shoes purchased at right time...                         \n",
      "17  This shoes are really good !!!! And gud Comfor...                         \n",
      "18  It's very good product. Good comfortable n nic...                         \n",
      "19                           The movie is pathetic+-1                         \n",
      "\n",
      "    no hanging problem. Battery life is same as on day one. Each of their products is just awesome.+1  \n",
      "0                                                 NaN                                                  \n",
      "1                                                 NaN                                                  \n",
      "2                                                 NaN                                                  \n",
      "3                                   it is too bad.+-1                                                  \n",
      "4                                                 NaN                                                  \n",
      "5                                                 NaN                                                  \n",
      "6                                                 NaN                                                  \n",
      "7                                                 NaN                                                  \n",
      "8                                                 NaN                                                  \n",
      "9                                                 NaN                                                  \n",
      "10                                                NaN                                                  \n",
      "11                                                NaN                                                  \n",
      "12                                                NaN                                                  \n",
      "13                                                NaN                                                  \n",
      "14                                worst finishing.+-1                                                  \n",
      "15                                                NaN                                                  \n",
      "16   but box got damaged during shipping. But take...                                                  \n",
      "17                                                NaN                                                  \n",
      "18                                                NaN                                                  \n",
      "19                                                NaN                                                  \n"
     ]
    }
   ],
   "source": [
    "#reading the data\n",
    "raw_data = pd.read_csv(r'naive_data.csv')\n",
    "print(raw_data)"
   ]
  },
  {
   "cell_type": "code",
   "execution_count": 111,
   "metadata": {},
   "outputs": [
    {
     "name": "stdout",
     "output_type": "stream",
     "text": [
      "<class 'pandas.core.frame.DataFrame'>\n",
      "RangeIndex: 20 entries, 0 to 19\n",
      "Data columns (total 2 columns):\n",
      " #   Column                                                                                              Non-Null Count  Dtype \n",
      "---  ------                                                                                              --------------  ----- \n",
      " 0   Great product. Have been using it for more than 1.5 years now. No issues                            20 non-null     object\n",
      " 1    no hanging problem. Battery life is same as on day one. Each of their products is just awesome.+1  3 non-null      object\n",
      "dtypes: object(2)\n",
      "memory usage: 448.0+ bytes\n"
     ]
    }
   ],
   "source": [
    "#analysing the data\n",
    "raw_data.info()"
   ]
  },
  {
   "cell_type": "code",
   "execution_count": 100,
   "metadata": {},
   "outputs": [],
   "source": [
    "df=open(\"naive_data.csv\",\"r\")\n",
    "\n",
    "reader = csv.reader(df, delimiter='+')"
   ]
  },
  {
   "cell_type": "code",
   "execution_count": 101,
   "metadata": {},
   "outputs": [],
   "source": [
    "# It is the dictionary that has the data : { label(positive/negative) : { word : count of number of occurrences of the word } }\n",
    "\n",
    "dataset={}"
   ]
  },
  {
   "cell_type": "code",
   "execution_count": 102,
   "metadata": {},
   "outputs": [],
   "source": [
    "# The dictionary with count of records, { label l : No. of records that are labeled l }\n",
    "\n",
    "no_of_items={}"
   ]
  },
  {
   "cell_type": "code",
   "execution_count": 103,
   "metadata": {},
   "outputs": [],
   "source": [
    "# The dictionary with count of occurrances of word under each label\n",
    "\n",
    "feature_set={}"
   ]
  },
  {
   "cell_type": "code",
   "execution_count": 104,
   "metadata": {},
   "outputs": [],
   "source": [
    "# For each sentence in dataset\n",
    "\n",
    "for row in reader:\n",
    "    # Initialize the label in the dictionary if not present already\n",
    "    no_of_items.setdefault(row[1],0)\n",
    "    \n",
    "    # Increase the count of occurence of label by 1 for every occurence\n",
    "    no_of_items[row[1]]+=1\n",
    "    \n",
    "    # Initialize the dictionary for a label if not present\n",
    "    dataset.setdefault(row[1],{})\n",
    "    \n",
    "    # Split the sentence with respect to non-characters, and donot split if apostophe is present\n",
    "    split_data=re.split('[^a-zA-Z\\']',row[0])\n",
    "    \n",
    "    # For every word in split data\n",
    "    for i in split_data:\n",
    "        # Removing stop words to a small extent by ignoring words with length less than 3\n",
    "        if len(i) > 2:\n",
    "            dataset[row[1]].setdefault(i.lower(),0)\n",
    "            \n",
    "            # Increase the word count on its occurrence with label row[1]\n",
    "            dataset[row[1]][i.lower()]+=1\n",
    "            \n",
    "            # Initialize a dictionary for a newly found word in feature set\n",
    "            feature_set.setdefault(i.lower(),{})\n",
    "            \n",
    "            # If the label was found for the word, for the first time, initialize corresponding count value for word as key\n",
    "            feature_set[i.lower()].setdefault(row[1],0)\n",
    "            \n",
    "            # Increment the count for the word in that label\n",
    "            feature_set[i.lower()][row[1]]+=1\n"
   ]
  },
  {
   "cell_type": "code",
   "execution_count": 105,
   "metadata": {},
   "outputs": [],
   "source": [
    "# To calculate the basic probability of a word for a category\n",
    "\n",
    "def calc_prob(word,category):\n",
    "    if word not in feature_set or word not in dataset[category]:\n",
    "        return 0\n",
    "\n",
    "    return float(dataset[category][word])/no_of_items[category]"
   ]
  },
  {
   "cell_type": "code",
   "execution_count": 106,
   "metadata": {},
   "outputs": [],
   "source": [
    "# Weighted probability of a word for a category\n",
    "\n",
    "def weighted_prob(word,category):\n",
    "    basic_prob=calc_prob(word,category)\n",
    "    if word in feature_set:\n",
    "        tot=sum(feature_set[word].values())\n",
    "    else:\n",
    "        tot=0\n",
    "    weight_prob=((1.0*0.5)+(tot*basic_prob))/(1.0+tot)\n",
    "    return weight_prob\n"
   ]
  },
  {
   "cell_type": "code",
   "execution_count": 107,
   "metadata": {},
   "outputs": [],
   "source": [
    "# To get probability of the test data for the given category\n",
    "\n",
    "def test_prob(test,category):\n",
    "    split_data=re.split('[^a-zA-Z][\\'][ ]',test)\n",
    "    data=[]\n",
    "    for i in split_data:\n",
    "        if ' ' in i:\n",
    "            i=i.split(' ')\n",
    "            for j in i:\n",
    "                if j not in data:\n",
    "                    data.append(j.lower())\n",
    "        elif len(i) > 2 and i not in data:\n",
    "            data.append(i.lower())\n",
    "            \n",
    "    p=1\n",
    "    for i in data:\n",
    "        p*=weighted_prob(i,category)\n",
    "    return p\n",
    "  \n",
    "        \n",
    "    "
   ]
  },
  {
   "cell_type": "code",
   "execution_count": 108,
   "metadata": {},
   "outputs": [],
   "source": [
    "# Naive Bayes implementation\n",
    "\n",
    "def naive_bayes(test):\n",
    "    results={}\n",
    "    for i in dataset.keys():\n",
    "        # Category Probability\n",
    "        # Number of items in category/total number of items\n",
    "        cat_prob=float(no_of_items[i])/sum(no_of_items.values())\n",
    "        test_prob1=test_prob(test,i)\n",
    "        \n",
    "        results[i]=test_prob1*cat_prob\n",
    "    return results"
   ]
  },
  {
   "cell_type": "code",
   "execution_count": 112,
   "metadata": {},
   "outputs": [
    {
     "name": "stdout",
     "output_type": "stream",
     "text": [
      "Enter the sentence\n",
      "Sentence = It was the bad movie I've seen\n",
      "The Sentence is : negative(-ve)\n"
     ]
    }
   ],
   "source": [
    "# Predicting the final output\n",
    "\n",
    "print ('Enter the sentence')\n",
    "text=input('Sentence = ')\n",
    "result=naive_bayes(text)\n",
    "\n",
    "if result['1'] > result['-1']:\n",
    "    print ('The Sentence is : positive(+ve)')\n",
    "else:\n",
    "    print ('The Sentence is : negative(-ve)')\n"
   ]
  },
  {
   "cell_type": "code",
   "execution_count": null,
   "metadata": {},
   "outputs": [],
   "source": []
  },
  {
   "cell_type": "code",
   "execution_count": null,
   "metadata": {},
   "outputs": [],
   "source": []
  }
 ],
 "metadata": {
  "kernelspec": {
   "display_name": "Python 3",
   "language": "python",
   "name": "python3"
  },
  "language_info": {
   "codemirror_mode": {
    "name": "ipython",
    "version": 3
   },
   "file_extension": ".py",
   "mimetype": "text/x-python",
   "name": "python",
   "nbconvert_exporter": "python",
   "pygments_lexer": "ipython3",
   "version": "3.8.5"
  }
 },
 "nbformat": 4,
 "nbformat_minor": 4
}
